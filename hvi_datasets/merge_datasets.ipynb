{
 "cells": [
  {
   "cell_type": "code",
   "execution_count": 1,
   "metadata": {
    "collapsed": true
   },
   "outputs": [],
   "source": [
    "from taxonomy import Taxonomy\n",
    "\n",
    "from hvidb import DatasetHVIDB\n",
    "from hpidb import DatasetHPIDBVirus\n",
    "from intact import DatasetIntactPositive\n",
    "from virus_mentha import DatasetVirusMentha\n",
    "from vir_host_net_3 import DatasetVirHostNet3\n",
    "from viruses_string import DatasetVirusesString\n",
    "from sars_cov_2_im_28880 import DatasetSarsCov2IM28880"
   ]
  },
  {
   "cell_type": "code",
   "execution_count": 2,
   "outputs": [],
   "source": [
    "taxonomy = Taxonomy()"
   ],
   "metadata": {
    "collapsed": false
   }
  },
  {
   "cell_type": "code",
   "execution_count": 3,
   "outputs": [
    {
     "name": "stdout",
     "output_type": "stream",
     "text": [
      "<class 'pandas.core.frame.DataFrame'>\n",
      "RangeIndex: 48643 entries, 0 to 48642\n",
      "Data columns (total 6 columns):\n",
      " #   Column         Non-Null Count  Dtype \n",
      "---  ------         --------------  ----- \n",
      " 0   Uniprot_human  48643 non-null  string\n",
      " 1   Uniprot_virus  48643 non-null  string\n",
      " 2   Taxon_virus    48643 non-null  string\n",
      " 3   Dataset        48643 non-null  string\n",
      " 4   Experimental   48643 non-null  string\n",
      " 5   Family_virus   48643 non-null  object\n",
      "dtypes: object(1), string(5)\n",
      "memory usage: 2.2+ MB\n"
     ]
    }
   ],
   "source": [
    "hvidb = DatasetHVIDB(file_path=\"raw_data/hvidb/HVIDB_PPIs.txt\")\n",
    "hvidb_std = hvidb.to_standardized_dataset(taxonomy=taxonomy)\n",
    "hvidb_std.data_frame.info()"
   ],
   "metadata": {
    "collapsed": false
   }
  },
  {
   "cell_type": "code",
   "execution_count": 4,
   "outputs": [
    {
     "name": "stdout",
     "output_type": "stream",
     "text": [
      "Dropped 8136 duplicated interactions from standardized:hpidb_virus! Ids[0-5]: [(2, 3), (2, 13), (2, 16), (2, 17), (4, 20)]\n",
      "<class 'pandas.core.frame.DataFrame'>\n",
      "RangeIndex: 31728 entries, 0 to 31727\n",
      "Data columns (total 6 columns):\n",
      " #   Column         Non-Null Count  Dtype \n",
      "---  ------         --------------  ----- \n",
      " 0   Uniprot_human  31728 non-null  string\n",
      " 1   Uniprot_virus  31728 non-null  string\n",
      " 2   Taxon_virus    31728 non-null  string\n",
      " 3   Dataset        31728 non-null  string\n",
      " 4   Experimental   31728 non-null  string\n",
      " 5   Family_virus   31728 non-null  object\n",
      "dtypes: object(1), string(5)\n",
      "memory usage: 1.5+ MB\n"
     ]
    }
   ],
   "source": [
    "hpidb = DatasetHPIDBVirus(file_path=\"raw_data/hpidb/hpidb_virus_25_10_22.txt\")\n",
    "hpidb_std = hpidb.to_standardized_dataset(taxonomy=taxonomy)\n",
    "hpidb_std.data_frame.info()"
   ],
   "metadata": {
    "collapsed": false
   }
  },
  {
   "cell_type": "code",
   "execution_count": 5,
   "outputs": [
    {
     "name": "stdout",
     "output_type": "stream",
     "text": [
      "Dropped 9028 duplicated interactions from standardized:intact_positive! Ids[0-5]: [(0, 1), (0, 2), (3, 4155), (3, 4156), (4, 4175)]\n",
      "<class 'pandas.core.frame.DataFrame'>\n",
      "RangeIndex: 26558 entries, 0 to 26557\n",
      "Data columns (total 6 columns):\n",
      " #   Column         Non-Null Count  Dtype \n",
      "---  ------         --------------  ----- \n",
      " 0   Uniprot_human  26558 non-null  string\n",
      " 1   Uniprot_virus  26558 non-null  string\n",
      " 2   Taxon_virus    26558 non-null  string\n",
      " 3   Dataset        26558 non-null  string\n",
      " 4   Experimental   26558 non-null  string\n",
      " 5   Family_virus   26558 non-null  object\n",
      "dtypes: object(1), string(5)\n",
      "memory usage: 1.2+ MB\n"
     ]
    }
   ],
   "source": [
    "intact = DatasetIntactPositive(file_path=\"raw_data/intact/intact_positive_human_virus.txt\")\n",
    "intact_std = intact.to_standardized_dataset(taxonomy=taxonomy)\n",
    "intact_std.data_frame.info()"
   ],
   "metadata": {
    "collapsed": false
   }
  },
  {
   "cell_type": "code",
   "execution_count": 6,
   "outputs": [
    {
     "name": "stdout",
     "output_type": "stream",
     "text": [
      "<class 'pandas.core.frame.DataFrame'>\n",
      "RangeIndex: 10692 entries, 0 to 10691\n",
      "Data columns (total 6 columns):\n",
      " #   Column         Non-Null Count  Dtype \n",
      "---  ------         --------------  ----- \n",
      " 0   Uniprot_human  10692 non-null  string\n",
      " 1   Uniprot_virus  10692 non-null  string\n",
      " 2   Taxon_virus    10692 non-null  string\n",
      " 3   Dataset        10692 non-null  string\n",
      " 4   Experimental   10692 non-null  string\n",
      " 5   Family_virus   10692 non-null  object\n",
      "dtypes: object(1), string(5)\n",
      "memory usage: 501.3+ KB\n"
     ]
    }
   ],
   "source": [
    "virus_mentha = DatasetVirusMentha(file_path=\"raw_data/virus_mentha/virus_mentha_human_virus_9606.csv\")\n",
    "virus_mentha_std = virus_mentha.to_standardized_dataset(taxonomy=taxonomy)\n",
    "virus_mentha_std.data_frame.info()"
   ],
   "metadata": {
    "collapsed": false
   }
  },
  {
   "cell_type": "code",
   "execution_count": 7,
   "outputs": [
    {
     "name": "stdout",
     "output_type": "stream",
     "text": [
      "Dropped 10652 human-human interactions from standardized:vir_host_net3! Ids[0-5]: [26, 27, 34, 35, 50]\n",
      "Dropped 4045 duplicated interactions from standardized:vir_host_net3! Ids[0-5]: [(7, 8), (27, 28), (41, 42), (44, 45), (46, 47)]\n",
      "<class 'pandas.core.frame.DataFrame'>\n",
      "RangeIndex: 36795 entries, 0 to 36794\n",
      "Data columns (total 6 columns):\n",
      " #   Column         Non-Null Count  Dtype \n",
      "---  ------         --------------  ----- \n",
      " 0   Uniprot_human  36795 non-null  string\n",
      " 1   Uniprot_virus  36795 non-null  string\n",
      " 2   Taxon_virus    36795 non-null  string\n",
      " 3   Dataset        36795 non-null  string\n",
      " 4   Experimental   36795 non-null  string\n",
      " 5   Family_virus   36795 non-null  object\n",
      "dtypes: object(1), string(5)\n",
      "memory usage: 1.7+ MB\n"
     ]
    }
   ],
   "source": [
    "vir_host_net_3 = DatasetVirHostNet3(file_path=\"raw_data/vir_host_net_3/VirHostNet3.tsv\")\n",
    "vir_host_net_3_std = vir_host_net_3.to_standardized_dataset(taxonomy=taxonomy)\n",
    "vir_host_net_3_std.data_frame.info()"
   ],
   "metadata": {
    "collapsed": false
   }
  },
  {
   "cell_type": "code",
   "execution_count": 8,
   "outputs": [
    {
     "name": "stdout",
     "output_type": "stream",
     "text": [
      "Dropped 19903 unknown ids from viruses_string dataset!\n",
      "Dropped 165 duplicated interactions from standardized:viruses_string! Ids[0-5]: [(6420, 39026), (6420, 40394), (6420, 50751), (6420, 50785), (6421, 39034)]\n",
      "<class 'pandas.core.frame.DataFrame'>\n",
      "RangeIndex: 63941 entries, 0 to 63940\n",
      "Data columns (total 6 columns):\n",
      " #   Column         Non-Null Count  Dtype \n",
      "---  ------         --------------  ----- \n",
      " 0   Uniprot_human  63941 non-null  string\n",
      " 1   Uniprot_virus  63941 non-null  string\n",
      " 2   Taxon_virus    63941 non-null  string\n",
      " 3   Dataset        63941 non-null  string\n",
      " 4   Experimental   63941 non-null  string\n",
      " 5   Family_virus   63941 non-null  object\n",
      "dtypes: object(1), string(5)\n",
      "memory usage: 2.9+ MB\n"
     ]
    }
   ],
   "source": [
    "viruses_string = DatasetVirusesString(file_path=\"raw_data/viruses_string/9606.protein.links.detailed.v10.5.txt\")\n",
    "viruses_string_std = viruses_string.to_standardized_dataset(taxonomy=taxonomy)\n",
    "viruses_string_std.data_frame.info()"
   ],
   "metadata": {
    "collapsed": false
   }
  },
  {
   "cell_type": "code",
   "execution_count": 9,
   "outputs": [
    {
     "name": "stdout",
     "output_type": "stream",
     "text": [
      "Dropped 359 duplicated interactions from standardized:sars_cov_2_im28880! Ids[0-5]: [(0, 240), (0, 360), (1, 239), (1, 361), (2, 219)]\n",
      "<class 'pandas.core.frame.DataFrame'>\n",
      "RangeIndex: 205 entries, 0 to 204\n",
      "Data columns (total 6 columns):\n",
      " #   Column         Non-Null Count  Dtype \n",
      "---  ------         --------------  ----- \n",
      " 0   Uniprot_human  205 non-null    string\n",
      " 1   Uniprot_virus  205 non-null    string\n",
      " 2   Taxon_virus    205 non-null    string\n",
      " 3   Dataset        205 non-null    string\n",
      " 4   Experimental   205 non-null    string\n",
      " 5   Family_virus   205 non-null    object\n",
      "dtypes: object(1), string(5)\n",
      "memory usage: 9.7+ KB\n"
     ]
    }
   ],
   "source": [
    "sars_cov_2_im_28880 = DatasetSarsCov2IM28880(file_path=\"raw_data/sars_cov_2_im28880/IM_28880_sars_2510.txt\")\n",
    "sars_cov_2_im_28880_std = sars_cov_2_im_28880.to_standardized_dataset(taxonomy=taxonomy)\n",
    "sars_cov_2_im_28880_std.data_frame.info()"
   ],
   "metadata": {
    "collapsed": false
   }
  },
  {
   "cell_type": "code",
   "execution_count": 10,
   "outputs": [
    {
     "name": "stdout",
     "output_type": "stream",
     "text": [
      "Dropped 31364 duplicated interactions from standardized:standardized:hvidb;standardized:hpidb_virus! Ids[0-5]: [(0, 60030), (2, 57651), (3, 74674), (5, 67756), (7, 63114)]\n",
      "Dropped 15172 duplicated interactions from standardized:standardized:standardized:hvidb;standardized:hpidb_virus;standardized:intact_positive! Ids[0-5]: [(3, 60936), (8, 49636), (9, 55343), (17, 50198), (19, 55743)]\n",
      "Dropped 10226 duplicated interactions from standardized:standardized:standardized:standardized:hvidb;standardized:hpidb_virus;standardized:intact_positive;standardized:virus_mentha! Ids[0-5]: [(9, 67529), (19, 63584), (20, 64933), (21, 67955), (22, 68257)]\n",
      "Dropped 27256 duplicated interactions from standardized:standardized:standardized:standardized:standardized:hvidb;standardized:hpidb_virus;standardized:intact_positive;standardized:virus_mentha;standardized:vir_host_net3! Ids[0-5]: [(0, 92738), (2, 67081), (5, 73714), (7, 64980), (9, 89271)]\n",
      "Dropped 4641 duplicated interactions from standardized:standardized:standardized:standardized:standardized:standardized:hvidb;standardized:hpidb_virus;standardized:intact_positive;standardized:virus_mentha;standardized:vir_host_net3;standardized:viruses_string! Ids[0-5]: [(9, 132992), (19, 80860), (43, 108899), (49, 124836), (51, 118609)]\n",
      "Dropped 205 duplicated interactions from standardized:standardized:standardized:standardized:standardized:standardized:standardized:hvidb;standardized:hpidb_virus;standardized:intact_positive;standardized:virus_mentha;standardized:vir_host_net3;standardized:viruses_string;standardized:sars_cov_2_im28880! Ids[0-5]: [(48380, 129701), (48387, 129700), (49222, 129698), (49223, 129699), (49224, 129702)]\n",
      "<class 'pandas.core.frame.DataFrame'>\n",
      "RangeIndex: 129698 entries, 0 to 129697\n",
      "Data columns (total 6 columns):\n",
      " #   Column         Non-Null Count   Dtype \n",
      "---  ------         --------------   ----- \n",
      " 0   Uniprot_human  129698 non-null  string\n",
      " 1   Uniprot_virus  129698 non-null  string\n",
      " 2   Taxon_virus    129698 non-null  string\n",
      " 3   Dataset        129698 non-null  string\n",
      " 4   Experimental   129698 non-null  string\n",
      " 5   Family_virus   129698 non-null  string\n",
      "dtypes: string(6)\n",
      "memory usage: 5.9 MB\n"
     ]
    }
   ],
   "source": [
    "# Merge all standardized datasets (only positive)\n",
    "merged_dataset_positives = hvidb_std.merge_with_standardized_dataset(hpidb_std).merge_with_standardized_dataset(intact_std).merge_with_standardized_dataset(virus_mentha_std).merge_with_standardized_dataset(vir_host_net_3_std).merge_with_standardized_dataset(viruses_string_std).merge_with_standardized_dataset(sars_cov_2_im_28880_std)\n",
    "merged_dataset_positives.data_frame.info()"
   ],
   "metadata": {
    "collapsed": false
   }
  },
  {
   "cell_type": "code",
   "execution_count": 11,
   "outputs": [
    {
     "name": "stdout",
     "output_type": "stream",
     "text": [
      "Unique interactions in dataset (experimental=False)\n",
      "{'virus_mentha': [466], 'vir_host_net3': [9514], 'viruses_string': [59300], 'sars_cov_2_im28880': [0], 'intact_positive': [6877], 'hpidb_virus': [106], 'hvidb': [13723]}\n"
     ]
    },
    {
     "data": {
      "text/plain": "<Figure size 640x480 with 1 Axes>",
      "image/png": "[encoded data removed]"
     },
     "metadata": {},
     "output_type": "display_data"
    }
   ],
   "source": [
    "merged_dataset_positives.plot_uniques_by_datasets()"
   ],
   "metadata": {
    "collapsed": false
   }
  },
  {
   "cell_type": "code",
   "execution_count": 12,
   "outputs": [],
   "source": [
    "merged_dataset_positives.store(file_path=\"merged_dataset/merged_dataset_positives.csv\")"
   ],
   "metadata": {
    "collapsed": false
   }
  }
 ],
 "metadata": {
  "kernelspec": {
   "display_name": "Python 3",
   "language": "python",
   "name": "python3"
  },
  "language_info": {
   "codemirror_mode": {
    "name": "ipython",
    "version": 2
   },
   "file_extension": ".py",
   "mimetype": "text/x-python",
   "name": "python",
   "nbconvert_exporter": "python",
   "pygments_lexer": "ipython2",
   "version": "2.7.6"
  }
 },
 "nbformat": 4,
 "nbformat_minor": 0
}
