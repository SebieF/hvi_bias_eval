{
 "cells": [
  {
   "cell_type": "code",
   "execution_count": 1,
   "metadata": {
    "collapsed": true
   },
   "outputs": [],
   "source": [
    "import h5py\n",
    "import numpy as np\n",
    "\n",
    "from biotrainer.inference import Inferencer\n",
    "from hvi_toolkit.interaction_datasets import DatasetRabiesLyssavirusExperimental"
   ]
  },
  {
   "cell_type": "code",
   "execution_count": 2,
   "outputs": [],
   "source": [
    "# Load all human protein embeddings\n",
    "# (downloaded from https://ftp.uniprot.org/pub/databases/uniprot/current_release/knowledgebase/embeddings/UP000005640_9606/per-protein.h5)\n",
    "human_embeddings_path = \"data/human_per_protein_uniprot.h5\"\n",
    "human_embeddings_file = h5py.File(human_embeddings_path, 'r')\n",
    "id2emb_sequence_human = {idx: np.array(embedding) for (idx, embedding) in human_embeddings_file.items()}"
   ],
   "metadata": {
    "collapsed": false
   }
  },
  {
   "cell_type": "code",
   "execution_count": 3,
   "outputs": [],
   "source": [
    "# Load rabies lyssa embeddings\n",
    "# (extracted from https://ftp.uniprot.org/pub/databases/uniprot/current_release/knowledgebase/embeddings/uniprot_sprot/per-protein.h5)\n",
    "lyssa_embeddings_path = \"data/rabies_lyssa_per_protein_uniprot.h5\"\n",
    "lyssa_embeddings_file = h5py.File(lyssa_embeddings_path, 'r')\n",
    "id2emb_sequence_lyssa = {idx: np.array(embedding) for (idx, embedding) in lyssa_embeddings_file.items()}"
   ],
   "metadata": {
    "collapsed": false
   }
  },
  {
   "cell_type": "code",
   "execution_count": 4,
   "outputs": [],
   "source": [
    "# Create interactions: Concatenate human and viral embeddings (human_vector ++ viral_vector), len = 2048\n",
    "interaction_dict = {}\n",
    "for seq_id_human, embedding_human in id2emb_sequence_human.items():\n",
    "    for seq_id_lyssa, embedding_lyssa in id2emb_sequence_lyssa.items():\n",
    "        interaction_name = f\"{seq_id_human}&{seq_id_lyssa}\"\n",
    "        interaction_embedding = np.concatenate([embedding_human, embedding_lyssa])\n",
    "        interaction_dict[interaction_name] = interaction_embedding"
   ],
   "metadata": {
    "collapsed": false
   }
  },
  {
   "cell_type": "code",
   "execution_count": 5,
   "outputs": [
    {
     "name": "stdout",
     "output_type": "stream",
     "text": [
      "Human proteins: 20592, Lyssa proteins: 60\n",
      "Interactions: 1235520\n"
     ]
    }
   ],
   "source": [
    "# Check correctness\n",
    "print(f\"Human proteins: {len(id2emb_sequence_human.keys())}, Lyssa proteins: {len(id2emb_sequence_lyssa.keys())}\")\n",
    "print(f\"Interactions: {len(interaction_dict.keys())}\")\n",
    "assert len(interaction_dict.keys()) == len(id2emb_sequence_human.keys()) * len(id2emb_sequence_lyssa.keys())"
   ],
   "metadata": {
    "collapsed": false
   }
  },
  {
   "cell_type": "code",
   "execution_count": 6,
   "outputs": [
    {
     "name": "stdout",
     "output_type": "stream",
     "text": [
      "Reading ../model/biotrainer_output/out.yml..\n",
      "Reading checkpoint(s) from directory: ../model/biotrainer_output/FNN/custom_embeddings..\n"
     ]
    },
    {
     "name": "stderr",
     "output_type": "stream",
     "text": [
      "/home/sebie/anaconda3/envs/bio_poetry/lib/python3.9/site-packages/torchmetrics/utilities/prints.py:36: UserWarning: Metric `SpearmanCorrcoef` will save all targets and predictions in the buffer. For large datasets, this may lead to large memory footprint.\n",
      "  warnings.warn(*args, **kwargs)\n"
     ]
    },
    {
     "name": "stdout",
     "output_type": "stream",
     "text": [
      "Got 5 split(s): k_fold-strat-1, k_fold-strat-2, k_fold-strat-3, k_fold-strat-4, k_fold-strat-5\n"
     ]
    }
   ],
   "source": [
    "# Load best model\n",
    "model_out_path = \"../../model/biotrainer_output/out.yml\"\n",
    "hvi_inferencer, output_vars = Inferencer.create_from_out_file(model_out_path)"
   ],
   "metadata": {
    "collapsed": false
   }
  },
  {
   "cell_type": "code",
   "execution_count": 7,
   "outputs": [],
   "source": [
    "# Predict interactome\n",
    "predictions_rabies_lyssa_interactome = hvi_inferencer.from_embeddings(embeddings=interaction_dict,\n",
    "                                                                      split_name=output_vars[\"split_results\"][\n",
    "                                                                          \"best_split\"])"
   ],
   "metadata": {
    "collapsed": false
   }
  },
  {
   "cell_type": "code",
   "execution_count": 8,
   "outputs": [
    {
     "name": "stdout",
     "output_type": "stream",
     "text": [
      "Positive interactions: 715245/1235520 (57.89020007770008%)\n"
     ]
    }
   ],
   "source": [
    "# Number of positive interaction predictions\n",
    "number_positive_predictions = sum(map(int, predictions_rabies_lyssa_interactome['mapped_predictions'].values()))\n",
    "print(\n",
    "    f\"Positive interactions: {number_positive_predictions}/{len(predictions_rabies_lyssa_interactome['mapped_predictions'])} ({100 * number_positive_predictions / len(predictions_rabies_lyssa_interactome['mapped_predictions'])}%)\")"
   ],
   "metadata": {
    "collapsed": false
   }
  },
  {
   "cell_type": "code",
   "execution_count": 9,
   "outputs": [
    {
     "name": "stdout",
     "output_type": "stream",
     "text": [
      "Correct predictions: 52/53 (98.11320754716981)\n"
     ]
    }
   ],
   "source": [
    "# Evaluate on experimental verified interactions\n",
    "rabies_lyssa_experimental_interactions = DatasetRabiesLyssavirusExperimental(\n",
    "    file_path=\"../../hvi_datasets/raw_data/rabies_lyssavirus_zandi/lyssa_experimental_interactions.csv\")\n",
    "rabies_lyssa_experimental_interactions = rabies_lyssa_experimental_interactions.to_standardized_dataset(taxonomy=None)\n",
    "experimental_interaction_ids = []\n",
    "correct_predictions = 0\n",
    "for _, row in rabies_lyssa_experimental_interactions.data_frame.iterrows():\n",
    "    interaction = f\"{row['Uniprot_human']}&{row['Uniprot_virus']}\"\n",
    "    experimental_interaction_ids.append(interaction)\n",
    "    correct_predictions += int(predictions_rabies_lyssa_interactome[\"mapped_predictions\"][interaction])\n",
    "\n",
    "print(\n",
    "    f\"Correct predictions: {correct_predictions}/{len(rabies_lyssa_experimental_interactions)} ({100 * correct_predictions / len(rabies_lyssa_experimental_interactions)})\")"
   ],
   "metadata": {
    "collapsed": false
   }
  },
  {
   "cell_type": "code",
   "execution_count": 14,
   "outputs": [
    {
     "name": "stdout",
     "output_type": "stream",
     "text": [
      "{'Q9GZZ6&O92284': {'prediction': '1', 'mcd_mean': tensor([0.3888, 0.6112], device='cuda:0'), 'mcd_lower_bound': tensor([0.3607, 0.5832], device='cuda:0'), 'mcd_upper_bound': tensor([0.4168, 0.6393], device='cuda:0')}, 'P13591&O92284': {'prediction': '1', 'mcd_mean': tensor([0.2043, 0.7957], device='cuda:0'), 'mcd_lower_bound': tensor([0.1714, 0.7628], device='cuda:0'), 'mcd_upper_bound': tensor([0.2372, 0.8286], device='cuda:0')}, 'P08138&P32550': {'prediction': '1', 'mcd_mean': tensor([0.2741, 0.7259], device='cuda:0'), 'mcd_lower_bound': tensor([0.2408, 0.6927], device='cuda:0'), 'mcd_upper_bound': tensor([0.3073, 0.7592], device='cuda:0')}, 'P08138&O92284': {'prediction': '1', 'mcd_mean': tensor([0.2325, 0.7675], device='cuda:0'), 'mcd_lower_bound': tensor([0.2074, 0.7423], device='cuda:0'), 'mcd_upper_bound': tensor([0.2577, 0.7926], device='cuda:0')}, 'P08138&P08667': {'prediction': '1', 'mcd_mean': tensor([0.2543, 0.7457], device='cuda:0'), 'mcd_lower_bound': tensor([0.2165, 0.7080], device='cuda:0'), 'mcd_upper_bound': tensor([0.2920, 0.7835], device='cuda:0')}, 'Q14416&O92284': {'prediction': '1', 'mcd_mean': tensor([0.4047, 0.5953], device='cuda:0'), 'mcd_lower_bound': tensor([0.3707, 0.5613], device='cuda:0'), 'mcd_upper_bound': tensor([0.4387, 0.6293], device='cuda:0')}, 'Q14416&P03524': {'prediction': '1', 'mcd_mean': tensor([0.4479, 0.5521], device='cuda:0'), 'mcd_lower_bound': tensor([0.4184, 0.5227], device='cuda:0'), 'mcd_upper_bound': tensor([0.4773, 0.5816], device='cuda:0')}, 'Q9Y2H9&P32550': {'prediction': '1', 'mcd_mean': tensor([0.1940, 0.8060], device='cuda:0'), 'mcd_lower_bound': tensor([0.1616, 0.7735], device='cuda:0'), 'mcd_upper_bound': tensor([0.2265, 0.8384], device='cuda:0')}, 'Q9Y2H9&A3RM22': {'prediction': '1', 'mcd_mean': tensor([0.1941, 0.8059], device='cuda:0'), 'mcd_lower_bound': tensor([0.1691, 0.7808], device='cuda:0'), 'mcd_upper_bound': tensor([0.2192, 0.8309], device='cuda:0')}, 'Q6P0Q8&P32550': {'prediction': '1', 'mcd_mean': tensor([0.2229, 0.7771], device='cuda:0'), 'mcd_lower_bound': tensor([0.1898, 0.7439], device='cuda:0'), 'mcd_upper_bound': tensor([0.2561, 0.8102], device='cuda:0')}, 'Q6P0Q8&A3RM22': {'prediction': '1', 'mcd_mean': tensor([0.2147, 0.7853], device='cuda:0'), 'mcd_lower_bound': tensor([0.1864, 0.7569], device='cuda:0'), 'mcd_upper_bound': tensor([0.2431, 0.8136], device='cuda:0')}, 'P29074&P08667': {'prediction': '1', 'mcd_mean': tensor([0.3543, 0.6457], device='cuda:0'), 'mcd_lower_bound': tensor([0.3185, 0.6099], device='cuda:0'), 'mcd_upper_bound': tensor([0.3901, 0.6815], device='cuda:0')}, 'P29074&P19462': {'prediction': '1', 'mcd_mean': tensor([0.4126, 0.5874], device='cuda:0'), 'mcd_lower_bound': tensor([0.3797, 0.5545], device='cuda:0'), 'mcd_upper_bound': tensor([0.4455, 0.6203], device='cuda:0')}, 'Q6P0Q8&P08667': {'prediction': '1', 'mcd_mean': tensor([0.2559, 0.7441], device='cuda:0'), 'mcd_lower_bound': tensor([0.2163, 0.7044], device='cuda:0'), 'mcd_upper_bound': tensor([0.2956, 0.7837], device='cuda:0')}, 'Q6P0Q8&P19462': {'prediction': '1', 'mcd_mean': tensor([0.2576, 0.7424], device='cuda:0'), 'mcd_lower_bound': tensor([0.2321, 0.7168], device='cuda:0'), 'mcd_upper_bound': tensor([0.2832, 0.7679], device='cuda:0')}, 'Q15700&P08667': {'prediction': '1', 'mcd_mean': tensor([0.1403, 0.8597], device='cuda:0'), 'mcd_lower_bound': tensor([0.1195, 0.8390], device='cuda:0'), 'mcd_upper_bound': tensor([0.1610, 0.8805], device='cuda:0')}, 'Q15700&P19462': {'prediction': '1', 'mcd_mean': tensor([0.1780, 0.8220], device='cuda:0'), 'mcd_lower_bound': tensor([0.1494, 0.7935], device='cuda:0'), 'mcd_upper_bound': tensor([0.2065, 0.8506], device='cuda:0')}, 'O75970&P08667': {'prediction': '1', 'mcd_mean': tensor([0.0491, 0.9509], device='cuda:0'), 'mcd_lower_bound': tensor([0.0358, 0.9375], device='cuda:0'), 'mcd_upper_bound': tensor([0.0625, 0.9642], device='cuda:0')}, 'O75970&P19462': {'prediction': '1', 'mcd_mean': tensor([0.0579, 0.9421], device='cuda:0'), 'mcd_lower_bound': tensor([0.0438, 0.9280], device='cuda:0'), 'mcd_upper_bound': tensor([0.0720, 0.9562], device='cuda:0')}, 'P60880&O92284': {'prediction': '1', 'mcd_mean': tensor([0.1047, 0.8953], device='cuda:0'), 'mcd_lower_bound': tensor([0.0755, 0.8660], device='cuda:0'), 'mcd_upper_bound': tensor([0.1340, 0.9245], device='cuda:0')}, 'P60880&P16288': {'prediction': '1', 'mcd_mean': tensor([0.1132, 0.8868], device='cuda:0'), 'mcd_lower_bound': tensor([0.0818, 0.8555], device='cuda:0'), 'mcd_upper_bound': tensor([0.1445, 0.9182], device='cuda:0')}, 'P0DMV8&Q8JXF6': {'prediction': '1', 'mcd_mean': tensor([5.5710e-04, 9.9944e-01], device='cuda:0'), 'mcd_lower_bound': tensor([1.6116e-04, 9.9905e-01], device='cuda:0'), 'mcd_upper_bound': tensor([9.5304e-04, 9.9984e-01], device='cuda:0')}, 'P0DMV9&Q8JXF6': {'prediction': '1', 'mcd_mean': tensor([2.8420e-04, 9.9972e-01], device='cuda:0'), 'mcd_lower_bound': tensor([1.4198e-04, 9.9957e-01], device='cuda:0'), 'mcd_upper_bound': tensor([4.2642e-04, 9.9986e-01], device='cuda:0')}, 'P49368&Q8B6J9': {'prediction': '1', 'mcd_mean': tensor([0.1119, 0.8881], device='cuda:0'), 'mcd_lower_bound': tensor([0.0853, 0.8616], device='cuda:0'), 'mcd_upper_bound': tensor([0.1384, 0.9147], device='cuda:0')}, 'O60925&Q8B6J9': {'prediction': '1', 'mcd_mean': tensor([0.1015, 0.8985], device='cuda:0'), 'mcd_lower_bound': tensor([0.0833, 0.8802], device='cuda:0'), 'mcd_upper_bound': tensor([0.1198, 0.9167], device='cuda:0')}, 'Q9Y238&P16289': {'prediction': '1', 'mcd_mean': tensor([1.3788e-04, 9.9986e-01], device='cuda:0'), 'mcd_lower_bound': tensor([5.8425e-05, 9.9978e-01], device='cuda:0'), 'mcd_upper_bound': tensor([2.1733e-04, 9.9994e-01], device='cuda:0')}, 'P46934&A3RM21': {'prediction': '1', 'mcd_mean': tensor([0.1728, 0.8272], device='cuda:0'), 'mcd_lower_bound': tensor([0.1475, 0.8018], device='cuda:0'), 'mcd_upper_bound': tensor([0.1982, 0.8525], device='cuda:0')}, 'P46937&A3RM21': {'prediction': '1', 'mcd_mean': tensor([0.3552, 0.6448], device='cuda:0'), 'mcd_lower_bound': tensor([0.3278, 0.6174], device='cuda:0'), 'mcd_upper_bound': tensor([0.3826, 0.6722], device='cuda:0')}, 'O15372&P08671': {'prediction': '1', 'mcd_mean': tensor([0.2025, 0.7975], device='cuda:0'), 'mcd_lower_bound': tensor([0.1725, 0.7674], device='cuda:0'), 'mcd_upper_bound': tensor([0.2326, 0.8275], device='cuda:0')}, 'Q04206&P16287': {'prediction': '1', 'mcd_mean': tensor([0.2705, 0.7295], device='cuda:0'), 'mcd_lower_bound': tensor([0.2414, 0.7004], device='cuda:0'), 'mcd_upper_bound': tensor([0.2996, 0.7586], device='cuda:0')}, 'Q04206&P08671': {'prediction': '1', 'mcd_mean': tensor([0.3209, 0.6791], device='cuda:0'), 'mcd_lower_bound': tensor([0.2846, 0.6428], device='cuda:0'), 'mcd_upper_bound': tensor([0.3572, 0.7154], device='cuda:0')}, 'P38606&P0DOF2': {'prediction': '1', 'mcd_mean': tensor([0.0527, 0.9473], device='cuda:0'), 'mcd_lower_bound': tensor([0.0373, 0.9319], device='cuda:0'), 'mcd_upper_bound': tensor([0.0681, 0.9627], device='cuda:0')}, 'Q9Y238&P22363': {'prediction': '0', 'mcd_mean': tensor([0.5328, 0.4672], device='cuda:0'), 'mcd_lower_bound': tensor([0.4844, 0.4188], device='cuda:0'), 'mcd_upper_bound': tensor([0.5812, 0.5156], device='cuda:0')}, 'P29590&P22363': {'prediction': '1', 'mcd_mean': tensor([0.1560, 0.8440], device='cuda:0'), 'mcd_lower_bound': tensor([0.1319, 0.8198], device='cuda:0'), 'mcd_upper_bound': tensor([0.1802, 0.8681], device='cuda:0')}, 'P42224&P22363': {'prediction': '1', 'mcd_mean': tensor([0.3593, 0.6407], device='cuda:0'), 'mcd_lower_bound': tensor([0.3286, 0.6100], device='cuda:0'), 'mcd_upper_bound': tensor([0.3900, 0.6714], device='cuda:0')}, 'P42224&P16286': {'prediction': '1', 'mcd_mean': tensor([0.3634, 0.6366], device='cuda:0'), 'mcd_lower_bound': tensor([0.3328, 0.6061], device='cuda:0'), 'mcd_upper_bound': tensor([0.3939, 0.6672], device='cuda:0')}, 'P42224&Q66T64': {'prediction': '1', 'mcd_mean': tensor([0.4245, 0.5755], device='cuda:0'), 'mcd_lower_bound': tensor([0.3861, 0.5371], device='cuda:0'), 'mcd_upper_bound': tensor([0.4629, 0.6139], device='cuda:0')}, 'P52630&P22363': {'prediction': '1', 'mcd_mean': tensor([0.4288, 0.5712], device='cuda:0'), 'mcd_lower_bound': tensor([0.4117, 0.5542], device='cuda:0'), 'mcd_upper_bound': tensor([0.4458, 0.5883], device='cuda:0')}, 'P52630&P16286': {'prediction': '1', 'mcd_mean': tensor([0.4418, 0.5582], device='cuda:0'), 'mcd_lower_bound': tensor([0.4266, 0.5430], device='cuda:0'), 'mcd_upper_bound': tensor([0.4570, 0.5734], device='cuda:0')}, 'P52630&Q66T64': {'prediction': '1', 'mcd_mean': tensor([0.4726, 0.5274], device='cuda:0'), 'mcd_lower_bound': tensor([0.4566, 0.5115], device='cuda:0'), 'mcd_upper_bound': tensor([0.4885, 0.5434], device='cuda:0')}, 'P40763&P22363': {'prediction': '1', 'mcd_mean': tensor([0.3001, 0.6999], device='cuda:0'), 'mcd_lower_bound': tensor([0.2645, 0.6644], device='cuda:0'), 'mcd_upper_bound': tensor([0.3356, 0.7355], device='cuda:0')}, 'Q71U36&P22363': {'prediction': '1', 'mcd_mean': tensor([2.4126e-04, 9.9976e-01], device='cuda:0'), 'mcd_lower_bound': tensor([6.3571e-05, 9.9958e-01], device='cuda:0'), 'mcd_upper_bound': tensor([4.1895e-04, 9.9994e-01], device='cuda:0')}, 'P49368&Q8B6J8': {'prediction': '1', 'mcd_mean': tensor([0.0779, 0.9221], device='cuda:0'), 'mcd_lower_bound': tensor([0.0531, 0.8974], device='cuda:0'), 'mcd_upper_bound': tensor([0.1026, 0.9469], device='cuda:0')}, 'P19338&P22363': {'prediction': '1', 'mcd_mean': tensor([0.0035, 0.9965], device='cuda:0'), 'mcd_lower_bound': tensor([0.0015, 0.9945], device='cuda:0'), 'mcd_upper_bound': tensor([0.0055, 0.9985], device='cuda:0')}, 'Q05397&P22363': {'prediction': '1', 'mcd_mean': tensor([0.2845, 0.7155], device='cuda:0'), 'mcd_lower_bound': tensor([0.2507, 0.6818], device='cuda:0'), 'mcd_upper_bound': tensor([0.3182, 0.7493], device='cuda:0')}, 'P32969&P16286': {'prediction': '1', 'mcd_mean': tensor([0.0149, 0.9851], device='cuda:0'), 'mcd_lower_bound': tensor([0.0083, 0.9785], device='cuda:0'), 'mcd_upper_bound': tensor([0.0215, 0.9917], device='cuda:0')}, 'P07900&Q8B6J8': {'prediction': '1', 'mcd_mean': tensor([5.0134e-05, 9.9995e-01], device='cuda:0'), 'mcd_lower_bound': tensor([2.0922e-05, 9.9992e-01], device='cuda:0'), 'mcd_upper_bound': tensor([7.9347e-05, 9.9998e-01], device='cuda:0')}, 'P07900&P22363': {'prediction': '1', 'mcd_mean': tensor([4.2298e-05, 9.9996e-01], device='cuda:0'), 'mcd_lower_bound': tensor([1.8854e-05, 9.9993e-01], device='cuda:0'), 'mcd_upper_bound': tensor([6.5743e-05, 9.9998e-01], device='cuda:0')}, 'Q16543&Q8B6J8': {'prediction': '1', 'mcd_mean': tensor([0.0804, 0.9196], device='cuda:0'), 'mcd_lower_bound': tensor([0.0557, 0.8950], device='cuda:0'), 'mcd_upper_bound': tensor([0.1050, 0.9443], device='cuda:0')}, 'Q16543&P22363': {'prediction': '1', 'mcd_mean': tensor([0.1385, 0.8615], device='cuda:0'), 'mcd_lower_bound': tensor([0.0974, 0.8203], device='cuda:0'), 'mcd_upper_bound': tensor([0.1797, 0.9026], device='cuda:0')}, 'Q14457&Q8B6J8': {'prediction': '1', 'mcd_mean': tensor([0.1870, 0.8130], device='cuda:0'), 'mcd_lower_bound': tensor([0.1612, 0.7872], device='cuda:0'), 'mcd_upper_bound': tensor([0.2128, 0.8388], device='cuda:0')}, 'Q14457&P22363': {'prediction': '1', 'mcd_mean': tensor([0.2241, 0.7759], device='cuda:0'), 'mcd_lower_bound': tensor([0.1945, 0.7462], device='cuda:0'), 'mcd_upper_bound': tensor([0.2538, 0.8055], device='cuda:0')}, 'P61221&P69479': {'prediction': '1', 'mcd_mean': tensor([0.0450, 0.9550], device='cuda:0'), 'mcd_lower_bound': tensor([0.0334, 0.9434], device='cuda:0'), 'mcd_upper_bound': tensor([0.0566, 0.9666], device='cuda:0')}}\n"
     ]
    }
   ],
   "source": [
    "# Look at model error margins for experimental verified interactions using monte-carlo dropout\n",
    "experimental_interaction_embeddings = {interaction_id: interaction_dict[interaction_id] for interaction_id in\n",
    "                                       experimental_interaction_ids}\n",
    "predictions_rabies_lyssa_exp_mcd = hvi_inferencer.from_embeddings_with_monte_carlo_dropout(\n",
    "    embeddings=experimental_interaction_embeddings,\n",
    "    split_name=output_vars[\"split_results\"][\"best_split\"],\n",
    "    n_forward_passes=30,\n",
    "    confidence_level=0.05,\n",
    "    seed=42\n",
    ")\n",
    "print(predictions_rabies_lyssa_exp_mcd)"
   ],
   "metadata": {
    "collapsed": false
   }
  },
  {
   "cell_type": "code",
   "execution_count": 11,
   "outputs": [],
   "source": [
    "# Save interactome predictions\n",
    "interactome_save_path = \"rabies_lyssa_human_interactome_predictions.csv\"\n",
    "with open(interactome_save_path, \"w\") as interactome_save_file:\n",
    "    interactome_save_file.write(f\"Uniprot_human,Uniprot_virus,Prediction\\n\")\n",
    "    for interaction_id, prediction in predictions_rabies_lyssa_interactome[\"mapped_predictions\"].items():\n",
    "        uniprot_human = interaction_id.split(\"&\")[0]\n",
    "        uniprot_virus = interaction_id.split(\"&\")[1]\n",
    "        interactome_save_file.write(f\"{uniprot_human},{uniprot_virus},{prediction}\\n\")"
   ],
   "metadata": {
    "collapsed": false
   }
  },
  {
   "cell_type": "code",
   "execution_count": 11,
   "outputs": [],
   "source": [],
   "metadata": {
    "collapsed": false
   }
  }
 ],
 "metadata": {
  "kernelspec": {
   "display_name": "Python 3",
   "language": "python",
   "name": "python3"
  },
  "language_info": {
   "codemirror_mode": {
    "name": "ipython",
    "version": 2
   },
   "file_extension": ".py",
   "mimetype": "text/x-python",
   "name": "python",
   "nbconvert_exporter": "python",
   "pygments_lexer": "ipython2",
   "version": "2.7.6"
  }
 },
 "nbformat": 4,
 "nbformat_minor": 0
}
