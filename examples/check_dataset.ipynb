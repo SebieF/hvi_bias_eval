{
 "cells": [
  {
   "cell_type": "code",
   "execution_count": 1,
   "metadata": {
    "collapsed": true
   },
   "outputs": [],
   "source": [
    "from hvi_toolkit.dataset_base_classes import DatasetHVIStandardized\n",
    "from hvi_toolkit.evaluators import DatasetEvaluator"
   ]
  },
  {
   "cell_type": "code",
   "execution_count": 2,
   "outputs": [],
   "source": [
    "dataset_evaluator = DatasetEvaluator()"
   ],
   "metadata": {
    "collapsed": false
   }
  },
  {
   "cell_type": "code",
   "execution_count": 3,
   "outputs": [
    {
     "name": "stdout",
     "output_type": "stream",
     "text": [
      "**Bias evaluation for dataset with 92789 interactions:**\n",
      "\n",
      "**Dataset bias:**\n",
      "Correlation between negative and positive interactions: 0.19190196311294588 (p-value: 2.6065095862735325e-94)\n",
      "Your dataset bias is quite high. The bias means that the frequency for proteins associated with \n",
      "interactions differs substantially between the negative and positive set. \n",
      "This will probably result in a high bias predictor baseline. \n",
      "To improve, you can remove hub proteins for human and viral proteins. \n",
      "Alternatively, you need to re-consider the creation of your negative dataset and \n",
      "account for the characteristics of your ppi network.\n",
      "\n",
      "**Bias baseline predictions for Whole dataset:**\n",
      "                     Whole dataset\n",
      "accuracy                  0.903491\n",
      "f1_score                  0.793820\n",
      "matthews-corr-coeff       0.734460\n",
      "precision                 0.855152\n",
      "recall                    0.740698\n",
      "\n",
      "**Bias baseline predictions for Training set only:**\n",
      "                     Training set only\n",
      "accuracy                      0.795251\n",
      "f1_score                      0.748802\n",
      "matthews-corr-coeff           0.618944\n",
      "precision                     0.928671\n",
      "recall                        0.627303\n",
      "\n",
      "**Bias baseline predictions for Test set only:**\n",
      "                     Test set only\n",
      "accuracy                  0.921213\n",
      "f1_score                  0.808429\n",
      "matthews-corr-coeff       0.759524\n",
      "precision                 0.835276\n",
      "recall                    0.783254\n",
      "\n",
      "**Protein Hubs:**\n",
      "Number of hub interactions: 87850\n",
      "\n",
      "**Bias baseline predictions for Hub interactions only:**\n",
      "                     Hub interactions only\n",
      "accuracy                          0.914479\n",
      "f1_score                          0.800489\n",
      "matthews-corr-coeff               0.747648\n",
      "precision                         0.841259\n",
      "recall                            0.763487\n",
      "\n",
      "**Sequence lengths:**\n",
      "Average length positive: 1064.9247228667182 (# Positive: 23274)\n",
      "Average length negative: 687.4653671869381 (# Negative: 69515)\n",
      "The lengths of your positive and negative interactions differ significantly!\n",
      "This might introduce bias to the model's predictions if it can infer the sequence lengths somehow.\n",
      "T-test result: 93.3459044758315 (p-value: 0.0)\n"
     ]
    }
   ],
   "source": [
    "# Make sure to unzip first!\n",
    "dataset_evaluator.evaluate_biotrainer_fasta(biotrainer_fasta_path=\"../model/biotrainer_hvi_interactions.fasta\")"
   ],
   "metadata": {
    "collapsed": false
   }
  },
  {
   "cell_type": "code",
   "execution_count": 4,
   "outputs": [
    {
     "name": "stderr",
     "output_type": "stream",
     "text": [
      "/home/sebie/PycharmProjects/hvi_bias_eval/hvi_toolkit/dataset_base_classes/hvi_abstract_dataset.py:43: DtypeWarning: Columns (2) have mixed types. Specify dtype option on import or set low_memory=False.\n",
      "  self.data_frame: pd.DataFrame = pd.read_csv(file_path, sep=self.delimiter, header=self.header)\n"
     ]
    }
   ],
   "source": [
    "# Make sure to unzip first!\n",
    "merged_dataset = DatasetHVIStandardized(file_path=\"../hvi_datasets/merged_dataset/merged_dataset_complete.csv\")\n",
    "sequences_path = \"../hvi_datasets/merged_dataset/merged_dataset_complete.fasta\""
   ],
   "metadata": {
    "collapsed": false
   }
  },
  {
   "cell_type": "code",
   "execution_count": 5,
   "outputs": [
    {
     "name": "stdout",
     "output_type": "stream",
     "text": [
      "**Bias evaluation for dataset with 337410 interactions:**\n",
      "\n",
      "**Dataset bias:**\n",
      "Correlation between negative and positive interactions: 0.15536668587351182 (p-value: 1.1907143965765062e-136)\n",
      "Your dataset bias is quite high. The bias means that the frequency for proteins associated with \n",
      "interactions differs substantially between the negative and positive set. \n",
      "This will probably result in a high bias predictor baseline. \n",
      "To improve, you can remove hub proteins for human and viral proteins. \n",
      "Alternatively, you need to re-consider the creation of your negative dataset and \n",
      "account for the characteristics of your ppi network.\n",
      "\n",
      "**Bias baseline predictions for Whole dataset:**\n",
      "                     Whole dataset\n",
      "accuracy                  0.900934\n",
      "f1_score                  0.866610\n",
      "matthews-corr-coeff       0.788567\n",
      "precision                 0.889593\n",
      "recall                    0.844784\n",
      "\n",
      "**Protein Hubs:**\n",
      "Number of hub interactions: 328953\n",
      "\n",
      "**Bias baseline predictions for Hub interactions only:**\n",
      "                     Hub interactions only\n",
      "accuracy                          0.905166\n",
      "f1_score                          0.868586\n",
      "matthews-corr-coeff               0.794776\n",
      "precision                         0.884997\n",
      "recall                            0.852773\n",
      "\n",
      "**Uniform distribution: Viral families**\n",
      "Viral families category is not uniformly distributed within your dataset. This might be a reason for biased interactions!\n",
      "Most frequent: ('Herpesviridae', 118127)\n",
      "Least frequent: ('Picornaviridae str. 06-231', 1)\n",
      "Chi-squared test: 2739237.0897255936 (p-value: 0.0)\n",
      "\n",
      "**Sequence lengths:**\n",
      "Average length positive: 1174.4856415961908 (# Positive: 128531)\n",
      "Average length negative: 741.2252883248196 (# Negative: 208879)\n",
      "The lengths of your positive and negative interactions differ significantly!\n",
      "This might introduce bias to the model's predictions if it can infer the sequence lengths somehow.\n",
      "T-test result: 207.3262878327571 (p-value: 0.0)\n"
     ]
    }
   ],
   "source": [
    "dataset_evaluator.evaluate_standardized_dataset(standardized_dataset=merged_dataset, sequences_fasta_path=sequences_path)"
   ],
   "metadata": {
    "collapsed": false
   }
  },
  {
   "cell_type": "code",
   "execution_count": 5,
   "outputs": [],
   "source": [],
   "metadata": {
    "collapsed": false
   }
  }
 ],
 "metadata": {
  "kernelspec": {
   "display_name": "Python 3",
   "language": "python",
   "name": "python3"
  },
  "language_info": {
   "codemirror_mode": {
    "name": "ipython",
    "version": 2
   },
   "file_extension": ".py",
   "mimetype": "text/x-python",
   "name": "python",
   "nbconvert_exporter": "python",
   "pygments_lexer": "ipython2",
   "version": "2.7.6"
  }
 },
 "nbformat": 4,
 "nbformat_minor": 0
}
