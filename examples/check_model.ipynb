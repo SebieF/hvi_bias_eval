{
 "cells": [
  {
   "cell_type": "code",
   "execution_count": 3,
   "metadata": {
    "collapsed": true
   },
   "outputs": [],
   "source": [
    "import h5py\n",
    "import numpy as np\n",
    "\n",
    "from biotrainer.inference import Inferencer\n",
    "from biotrainer.utilities import INTERACTION_INDICATOR\n",
    "from hvi_toolkit.evaluators import ModelEvaluator, ModelWrapperBiotrainer\n",
    "\n",
    "from hvi_toolkit.interaction_datasets import DatasetRabiesLyssavirusExperimental"
   ]
  },
  {
   "cell_type": "code",
   "execution_count": 4,
   "outputs": [
    {
     "name": "stdout",
     "output_type": "stream",
     "text": [
      "Reading ../model/biotrainer_output/out.yml..\n",
      "Reading checkpoint(s) from directory: ../model/biotrainer_output/FNN/custom_embeddings..\n"
     ]
    },
    {
     "name": "stderr",
     "output_type": "stream",
     "text": [
      "/home/sebie/anaconda3/envs/biotrainer/lib/python3.8/site-packages/torchmetrics/utilities/prints.py:36: UserWarning: Metric `SpearmanCorrcoef` will save all targets and predictions in the buffer. For large datasets, this may lead to large memory footprint.\n",
      "  warnings.warn(*args, **kwargs)\n"
     ]
    },
    {
     "name": "stdout",
     "output_type": "stream",
     "text": [
      "Got 5 split(s): k_fold-strat-1, k_fold-strat-2, k_fold-strat-3, k_fold-strat-4, k_fold-strat-5\n"
     ]
    }
   ],
   "source": [
    "# Load model\n",
    "model_out_path = \"../model/biotrainer_output/out.yml\"\n",
    "inferencer, output_vars = Inferencer.create_from_out_file(model_out_path)"
   ],
   "metadata": {
    "collapsed": false
   }
  },
  {
   "cell_type": "code",
   "execution_count": 5,
   "outputs": [],
   "source": [
    "# Create wrapper object\n",
    "model = ModelWrapperBiotrainer(inferencer=inferencer, split_name=output_vars[\"split_results\"][\"best_split\"])"
   ],
   "metadata": {
    "collapsed": false
   }
  },
  {
   "cell_type": "code",
   "execution_count": 6,
   "outputs": [],
   "source": [
    "# Get benchmarks (Work in progress)\n",
    "benchmarks_dict = {}"
   ],
   "metadata": {
    "collapsed": false
   }
  },
  {
   "cell_type": "code",
   "execution_count": 10,
   "outputs": [],
   "source": [
    "# 1. Rabies Lyssavirus experimental interactions\n",
    "# Load all human protein embeddings\n",
    "# (downloaded from https://ftp.uniprot.org/pub/databases/uniprot/current_release/knowledgebase/embeddings/UP000005640_9606/per-protein.h5)\n",
    "human_embeddings_path = \"../interactome_predictions/rabies_lyssavirus/data/human_per_protein_uniprot.h5\"\n",
    "human_embeddings_file = h5py.File(human_embeddings_path, 'r')\n",
    "id2emb_human = {idx: np.array(embedding) for (idx, embedding) in human_embeddings_file.items()}\n",
    "# Load rabies lyssa embeddings\n",
    "# (extracted from https://ftp.uniprot.org/pub/databases/uniprot/current_release/knowledgebase/embeddings/uniprot_sprot/per-protein.h5)\n",
    "lyssa_embeddings_path = \"../interactome_predictions/rabies_lyssavirus/data/rabies_lyssa_per_protein_uniprot.h5\"\n",
    "lyssa_embeddings_file = h5py.File(lyssa_embeddings_path, 'r')\n",
    "id2emb_lyssa = {idx: np.array(embedding) for (idx, embedding) in lyssa_embeddings_file.items()}\n",
    "# Load experimental interactions\n",
    "rabies_lyssa_experimental_interactions = DatasetRabiesLyssavirusExperimental(file_path=\"../hvi_datasets/raw_data/rabies_lyssavirus_zandi/lyssa_experimental_interactions.csv\")\n",
    "rabies_lyssa_experimental_interactions = rabies_lyssa_experimental_interactions.to_standardized_dataset(taxonomy=None)\n",
    "rabies_lyssa_experimental_interactions_list = rabies_lyssa_experimental_interactions.to_interaction_list()\n",
    "# Create interactions: Concatenate human and viral embeddings (human_vector ++ viral_vector), len = 2048\n",
    "rabies_lyssa_experimental_interaction_dict = {}\n",
    "for interaction in rabies_lyssa_experimental_interactions_list:\n",
    "        interaction_name = f\"{interaction.uniprot_human}{INTERACTION_INDICATOR}{interaction.uniprot_virus}\"\n",
    "        interaction_embedding = np.concatenate([id2emb_human[interaction.uniprot_human], id2emb_lyssa[interaction.uniprot_virus]])\n",
    "        rabies_lyssa_experimental_interaction_dict[interaction_name] = interaction_embedding\n",
    "\n",
    "benchmarks_dict[\"RabiesLyssavirus\"] = (rabies_lyssa_experimental_interaction_dict, [1 for _ in rabies_lyssa_experimental_interactions_list])"
   ],
   "metadata": {
    "collapsed": false
   }
  },
  {
   "cell_type": "code",
   "execution_count": 11,
   "outputs": [],
   "source": [
    "# 2. Negatome benchmark\n",
    "negatome_2_interactions_path = \"../hvi_datasets/raw_data/negatome2/negatome_2_combined_stringent.txt\"\n",
    "negatome_2_embeddings_path = \"../hvi_datasets/raw_data/negatome2/negatome_reduced_prottrans.h5\"\n",
    "negatome_2_embeddings_file = h5py.File(negatome_2_embeddings_path, 'r')\n",
    "# Get embeddings and interactions\n",
    "id2emb_negatome = {negatome_2_embeddings_file[idx].attrs[\"original_id\"]: np.array(embedding) for (idx, embedding) in\n",
    "                   negatome_2_embeddings_file.items()}\n",
    "negatome_interactions = []\n",
    "with open(negatome_2_interactions_path, \"r\") as negatome_2_interactions_file:\n",
    "    for line in negatome_2_interactions_file.readlines():\n",
    "        interaction_id = \"&\".join([seq_id.strip() for seq_id in line.split(\"\\t\")])\n",
    "        interactor_left = interaction_id.split(\"&\")[0]\n",
    "        interactor_right = interaction_id.split(\"&\")[1]\n",
    "        if interactor_left in id2emb_negatome.keys() and interactor_right in id2emb_negatome.keys():\n",
    "            negatome_interactions.append(interaction_id)\n",
    "\n",
    "negatome_interaction_embeddings = {}\n",
    "for interaction_id in negatome_interactions:\n",
    "        interactor_left = interaction_id.split(\"&\")[0]\n",
    "        interactor_right = interaction_id.split(\"&\")[1]\n",
    "        negatome_interaction_embeddings[interaction_id] = np.concatenate([id2emb_negatome[interactor_left], id2emb_negatome[interactor_right]])\n",
    "negatome_targets = [0 for _ in negatome_interaction_embeddings.keys()]\n",
    "benchmarks_dict[\"Negatome2.0\"] = (negatome_interaction_embeddings, negatome_targets)"
   ],
   "metadata": {
    "collapsed": false
   }
  },
  {
   "cell_type": "code",
   "execution_count": 12,
   "outputs": [],
   "source": [
    "model_evaluator = ModelEvaluator()"
   ],
   "metadata": {
    "collapsed": false
   }
  },
  {
   "cell_type": "code",
   "execution_count": 13,
   "outputs": [
    {
     "name": "stdout",
     "output_type": "stream",
     "text": [
      "**Evaluating model on 2 benchmarks:**\n",
      "**Metrics for benchmark RabiesLyssavirus:**\n",
      "                     RabiesLyssavirus\n",
      "accuracy                     0.981132\n",
      "f1_score                     0.990476\n",
      "matthews-corr-coeff          0.000000\n",
      "precision                    1.000000\n",
      "recall                       0.981132\n",
      "**Metrics for benchmark Negatome2.0:**\n",
      "                     Negatome2.0\n",
      "accuracy                 0.28773\n",
      "f1_score                 0.00000\n",
      "matthews-corr-coeff      0.00000\n",
      "precision                0.00000\n",
      "recall                   0.00000\n"
     ]
    }
   ],
   "source": [
    "model_evaluator.evaluate_model(model=model, benchmarks=benchmarks_dict, check_length_bias=False)"
   ],
   "metadata": {
    "collapsed": false
   }
  },
  {
   "cell_type": "code",
   "execution_count": null,
   "outputs": [],
   "source": [],
   "metadata": {
    "collapsed": false
   }
  }
 ],
 "metadata": {
  "kernelspec": {
   "display_name": "Python 3",
   "language": "python",
   "name": "python3"
  },
  "language_info": {
   "codemirror_mode": {
    "name": "ipython",
    "version": 2
   },
   "file_extension": ".py",
   "mimetype": "text/x-python",
   "name": "python",
   "nbconvert_exporter": "python",
   "pygments_lexer": "ipython2",
   "version": "2.7.6"
  }
 },
 "nbformat": 4,
 "nbformat_minor": 0
}
